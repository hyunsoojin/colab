{
  "nbformat": 4,
  "nbformat_minor": 0,
  "metadata": {
    "colab": {
      "name": "9-2.ipynb",
      "provenance": [],
      "authorship_tag": "ABX9TyObYOLu538gmdKD5M4k4Jym",
      "include_colab_link": true
    },
    "kernelspec": {
      "name": "python3",
      "display_name": "Python 3"
    },
    "language_info": {
      "name": "python"
    },
    "accelerator": "GPU"
  },
  "cells": [
    {
      "cell_type": "markdown",
      "metadata": {
        "id": "view-in-github",
        "colab_type": "text"
      },
      "source": [
        "<a href=\"https://colab.research.google.com/github/hyunsoojin/colab/blob/main/9_2.ipynb\" target=\"_parent\"><img src=\"https://colab.research.google.com/assets/colab-badge.svg\" alt=\"Open In Colab\"/></a>"
      ]
    },
    {
      "cell_type": "code",
      "metadata": {
        "colab": {
          "base_uri": "https://localhost:8080/"
        },
        "id": "rJl60cTiq1Pr",
        "outputId": "a9763dd7-772b-4c66-fc9f-6c6c5248ccdf"
      },
      "source": [
        "from tensorflow.keras.datasets import imdb\n",
        "(train_input, train_target), (test_input, test_target) = imdb.load_data(num_words=500)"
      ],
      "execution_count": 1,
      "outputs": [
        {
          "output_type": "stream",
          "text": [
            "Downloading data from https://storage.googleapis.com/tensorflow/tf-keras-datasets/imdb.npz\n",
            "17465344/17464789 [==============================] - 0s 0us/step\n"
          ],
          "name": "stdout"
        },
        {
          "output_type": "stream",
          "text": [
            "<string>:6: VisibleDeprecationWarning: Creating an ndarray from ragged nested sequences (which is a list-or-tuple of lists-or-tuples-or ndarrays with different lengths or shapes) is deprecated. If you meant to do this, you must specify 'dtype=object' when creating the ndarray\n",
            "/usr/local/lib/python3.7/dist-packages/tensorflow/python/keras/datasets/imdb.py:155: VisibleDeprecationWarning: Creating an ndarray from ragged nested sequences (which is a list-or-tuple of lists-or-tuples-or ndarrays with different lengths or shapes) is deprecated. If you meant to do this, you must specify 'dtype=object' when creating the ndarray\n",
            "  x_train, y_train = np.array(xs[:idx]), np.array(labels[:idx])\n",
            "/usr/local/lib/python3.7/dist-packages/tensorflow/python/keras/datasets/imdb.py:156: VisibleDeprecationWarning: Creating an ndarray from ragged nested sequences (which is a list-or-tuple of lists-or-tuples-or ndarrays with different lengths or shapes) is deprecated. If you meant to do this, you must specify 'dtype=object' when creating the ndarray\n",
            "  x_test, y_test = np.array(xs[idx:]), np.array(labels[idx:])\n"
          ],
          "name": "stderr"
        }
      ]
    },
    {
      "cell_type": "code",
      "metadata": {
        "colab": {
          "base_uri": "https://localhost:8080/"
        },
        "id": "mWBe5naZumiM",
        "outputId": "cc39b741-cddd-4a3e-999b-b97bfc78822f"
      },
      "source": [
        "print(train_input.shape, test_input.shape)"
      ],
      "execution_count": 2,
      "outputs": [
        {
          "output_type": "stream",
          "text": [
            "(25000,) (25000,)\n"
          ],
          "name": "stdout"
        }
      ]
    },
    {
      "cell_type": "code",
      "metadata": {
        "colab": {
          "base_uri": "https://localhost:8080/"
        },
        "id": "Ako0UElouraN",
        "outputId": "e3abb6be-7c5d-49eb-8061-a39c3ad24e0b"
      },
      "source": [
        "print(len(train_input[0]))"
      ],
      "execution_count": 3,
      "outputs": [
        {
          "output_type": "stream",
          "text": [
            "218\n"
          ],
          "name": "stdout"
        }
      ]
    },
    {
      "cell_type": "code",
      "metadata": {
        "colab": {
          "base_uri": "https://localhost:8080/"
        },
        "id": "x2P13UN7uzGk",
        "outputId": "953627cc-7267-4fc3-a945-e72e935fbfec"
      },
      "source": [
        "print(len(train_input[1]))"
      ],
      "execution_count": 4,
      "outputs": [
        {
          "output_type": "stream",
          "text": [
            "189\n"
          ],
          "name": "stdout"
        }
      ]
    },
    {
      "cell_type": "code",
      "metadata": {
        "colab": {
          "base_uri": "https://localhost:8080/"
        },
        "id": "LmRQpofXu2Xl",
        "outputId": "f02e692f-f934-4fad-f87e-25dfe9de826e"
      },
      "source": [
        "print(train_target[:20])"
      ],
      "execution_count": 5,
      "outputs": [
        {
          "output_type": "stream",
          "text": [
            "[1 0 0 1 0 0 1 0 1 0 1 0 0 0 0 0 1 1 0 1]\n"
          ],
          "name": "stdout"
        }
      ]
    },
    {
      "cell_type": "code",
      "metadata": {
        "id": "PQfhqL3xu-zc"
      },
      "source": [
        "from sklearn.model_selection import train_test_split\n",
        "train_input, val_input, train_target, val_target = train_test_split(\n",
        "    train_input, train_target, test_size=0.2, random_state=42\n",
        ")"
      ],
      "execution_count": 6,
      "outputs": []
    },
    {
      "cell_type": "code",
      "metadata": {
        "id": "ei-Q70qsvJ68"
      },
      "source": [
        "import numpy as np\n",
        "lengths = np.array([len(x) for x in train_input])"
      ],
      "execution_count": 7,
      "outputs": []
    },
    {
      "cell_type": "code",
      "metadata": {
        "colab": {
          "base_uri": "https://localhost:8080/"
        },
        "id": "jYzdSzHxvPY1",
        "outputId": "74a3a3bc-93e5-4193-ca25-dfb09c9544c6"
      },
      "source": [
        "print(np.mean(lengths), np.median(lengths))"
      ],
      "execution_count": 8,
      "outputs": [
        {
          "output_type": "stream",
          "text": [
            "239.00925 178.0\n"
          ],
          "name": "stdout"
        }
      ]
    },
    {
      "cell_type": "code",
      "metadata": {
        "colab": {
          "base_uri": "https://localhost:8080/",
          "height": 279
        },
        "id": "8bmFzsHavTRd",
        "outputId": "847368f2-48d4-4cc9-e33f-115602c5a46e"
      },
      "source": [
        "import matplotlib.pyplot as plt\n",
        "plt.hist(lengths)\n",
        "plt.xlabel('length')\n",
        "plt.ylabel('frequency')\n",
        "plt.show()"
      ],
      "execution_count": 9,
      "outputs": [
        {
          "output_type": "display_data",
          "data": {
            "image/png": "[encoded data removed]",
            "text/plain": [
              "<Figure size 432x288 with 1 Axes>"
            ]
          },
          "metadata": {
            "tags": [],
            "needs_background": "light"
          }
        }
      ]
    },
    {
      "cell_type": "code",
      "metadata": {
        "id": "s5gH67tHvamd"
      },
      "source": [
        "from tensorflow.keras.preprocessing.sequence import pad_sequences\n",
        "train_seq = pad_sequences(train_input, maxlen=100)"
      ],
      "execution_count": 10,
      "outputs": []
    },
    {
      "cell_type": "code",
      "metadata": {
        "colab": {
          "base_uri": "https://localhost:8080/"
        },
        "id": "Tos7pYbbvvsd",
        "outputId": "a88b8a8c-8e67-4e1a-ad77-8090c7b7a1d0"
      },
      "source": [
        "print(train_seq.shape)"
      ],
      "execution_count": 11,
      "outputs": [
        {
          "output_type": "stream",
          "text": [
            "(20000, 100)\n"
          ],
          "name": "stdout"
        }
      ]
    },
    {
      "cell_type": "code",
      "metadata": {
        "colab": {
          "base_uri": "https://localhost:8080/"
        },
        "id": "hIuU4gJOvzpt",
        "outputId": "539ab501-509c-4e32-d1c0-b7a8a5c01fa8"
      },
      "source": [
        "print(train_seq[0])"
      ],
      "execution_count": 12,
      "outputs": [
        {
          "output_type": "stream",
          "text": [
            "[ 10   4  20   9   2 364 352   5  45   6   2   2  33 269   8   2 142   2\n",
            "   5   2  17  73  17 204   5   2  19  55   2   2  92  66 104  14  20  93\n",
            "  76   2 151  33   4  58  12 188   2 151  12 215  69 224 142  73 237   6\n",
            "   2   7   2   2 188   2 103  14  31  10  10 451   7   2   5   2  80  91\n",
            "   2  30   2  34  14  20 151  50  26 131  49   2  84  46  50  37  80  79\n",
            "   6   2  46   7  14  20  10  10 470 158]\n"
          ],
          "name": "stdout"
        }
      ]
    },
    {
      "cell_type": "code",
      "metadata": {
        "colab": {
          "base_uri": "https://localhost:8080/"
        },
        "id": "tuVD-mTwv6h1",
        "outputId": "d82335fb-18d7-4152-a16d-f7ba17b03ae2"
      },
      "source": [
        "print(train_input[0][-10:])"
      ],
      "execution_count": 13,
      "outputs": [
        {
          "output_type": "stream",
          "text": [
            "[6, 2, 46, 7, 14, 20, 10, 10, 470, 158]\n"
          ],
          "name": "stdout"
        }
      ]
    },
    {
      "cell_type": "code",
      "metadata": {
        "colab": {
          "base_uri": "https://localhost:8080/"
        },
        "id": "9xNb3xZrv-3V",
        "outputId": "039c5e78-91ab-469a-85a7-195df1afff1f"
      },
      "source": [
        "print(train_seq[5])"
      ],
      "execution_count": 14,
      "outputs": [
        {
          "output_type": "stream",
          "text": [
            "[  0   0   0   0   1   2 195  19  49   2   2 190   4   2 352   2 183  10\n",
            "  10  13  82  79   4   2  36  71 269   8   2  25  19  49   7   4   2   2\n",
            "   2   2   2  10  10  48  25  40   2  11   2   2  40   2   2   5   4   2\n",
            "   2  95  14 238  56 129   2  10  10  21   2  94 364 352   2   2  11 190\n",
            "  24 484   2   7  94 205 405  10  10  87   2  34  49   2   7   2   2   2\n",
            "   2   2 290   2  46  48  64  18   4   2]\n"
          ],
          "name": "stdout"
        }
      ]
    },
    {
      "cell_type": "code",
      "metadata": {
        "id": "YZM66K8UwKXt"
      },
      "source": [
        "val_seq = pad_sequences(val_input, maxlen=100)"
      ],
      "execution_count": 15,
      "outputs": []
    },
    {
      "cell_type": "code",
      "metadata": {
        "id": "pa3uXNR4wOVV"
      },
      "source": [
        "from tensorflow import keras\n",
        "model = keras.Sequential()\n",
        "model.add(keras.layers.SimpleRNN(8, input_shape=(100, 500)))\n",
        "model.add(keras.layers.Dense(1, activation='sigmoid'))"
      ],
      "execution_count": 16,
      "outputs": []
    },
    {
      "cell_type": "code",
      "metadata": {
        "id": "lM0Wse8Pw2Sd"
      },
      "source": [
        "train_oh = keras.utils.to_categorical(train_seq)"
      ],
      "execution_count": 17,
      "outputs": []
    },
    {
      "cell_type": "code",
      "metadata": {
        "colab": {
          "base_uri": "https://localhost:8080/"
        },
        "id": "IDJNtAp2xJYU",
        "outputId": "316b314c-a51f-49f0-f904-675b718a97e3"
      },
      "source": [
        "print(train_oh.shape)"
      ],
      "execution_count": 18,
      "outputs": [
        {
          "output_type": "stream",
          "text": [
            "(20000, 100, 500)\n"
          ],
          "name": "stdout"
        }
      ]
    },
    {
      "cell_type": "code",
      "metadata": {
        "colab": {
          "base_uri": "https://localhost:8080/"
        },
        "id": "d20YN0gcxK7c",
        "outputId": "39d4e1d6-62ca-42af-f256-ccce26a544e2"
      },
      "source": [
        "print(train_oh[0][0][:12])"
      ],
      "execution_count": 19,
      "outputs": [
        {
          "output_type": "stream",
          "text": [
            "[0. 0. 0. 0. 0. 0. 0. 0. 0. 0. 1. 0.]\n"
          ],
          "name": "stdout"
        }
      ]
    },
    {
      "cell_type": "code",
      "metadata": {
        "colab": {
          "base_uri": "https://localhost:8080/"
        },
        "id": "3hAldelixU20",
        "outputId": "a108491c-93c0-4553-b6a7-e0e2528b738e"
      },
      "source": [
        "print(np.sum(train_oh[0][0]))"
      ],
      "execution_count": 20,
      "outputs": [
        {
          "output_type": "stream",
          "text": [
            "1.0\n"
          ],
          "name": "stdout"
        }
      ]
    },
    {
      "cell_type": "code",
      "metadata": {
        "id": "4n2zDQYpxZcs"
      },
      "source": [
        "val_oh = keras.utils.to_categorical(val_seq)"
      ],
      "execution_count": 21,
      "outputs": []
    },
    {
      "cell_type": "code",
      "metadata": {
        "colab": {
          "base_uri": "https://localhost:8080/"
        },
        "id": "VNnccgCMxfYM",
        "outputId": "bb385db5-23f2-4fe9-d2c3-48d183be230c"
      },
      "source": [
        "model.summary()"
      ],
      "execution_count": 22,
      "outputs": [
        {
          "output_type": "stream",
          "text": [
            "Model: \"sequential\"\n",
            "_________________________________________________________________\n",
            "Layer (type)                 Output Shape              Param #   \n",
            "=================================================================\n",
            "simple_rnn (SimpleRNN)       (None, 8)                 4072      \n",
            "_________________________________________________________________\n",
            "dense (Dense)                (None, 1)                 9         \n",
            "=================================================================\n",
            "Total params: 4,081\n",
            "Trainable params: 4,081\n",
            "Non-trainable params: 0\n",
            "_________________________________________________________________\n"
          ],
          "name": "stdout"
        }
      ]
    },
    {
      "cell_type": "code",
      "metadata": {
        "colab": {
          "base_uri": "https://localhost:8080/"
        },
        "id": "q_U-Aeloxgss",
        "outputId": "e01c792a-f455-43d5-95b1-391a8aaa8c8f"
      },
      "source": [
        "rmsprop = keras.optimizers.RMSprop(learning_rate = 1e-4)\n",
        "model.compile(optimizer=rmsprop, loss='binary_crossentropy', metrics=['accuracy'])\n",
        "checkpoint_cb = keras.callbacks.ModelCheckpoint('best-simplernn-model.h5')\n",
        "early_stopping_cb = keras.callbacks.EarlyStopping(patience=3, restore_best_weights=True)\n",
        "history = model.fit(train_oh, train_target, epochs=100, batch_size=64, validation_data=(val_oh, val_target), callbacks=[checkpoint_cb, early_stopping_cb])"
      ],
      "execution_count": 23,
      "outputs": [
        {
          "output_type": "stream",
          "text": [
            "Epoch 1/100\n",
            "313/313 [==============================] - 27s 74ms/step - loss: 0.6997 - accuracy: 0.5027 - val_loss: 0.6946 - val_accuracy: 0.5050\n",
            "Epoch 2/100\n",
            "313/313 [==============================] - 23s 73ms/step - loss: 0.6935 - accuracy: 0.5145 - val_loss: 0.6928 - val_accuracy: 0.5078\n",
            "Epoch 3/100\n",
            "313/313 [==============================] - 23s 75ms/step - loss: 0.6913 - accuracy: 0.5247 - val_loss: 0.6913 - val_accuracy: 0.5126\n",
            "Epoch 4/100\n",
            "313/313 [==============================] - 23s 74ms/step - loss: 0.6890 - accuracy: 0.5344 - val_loss: 0.6884 - val_accuracy: 0.5282\n",
            "Epoch 5/100\n",
            "313/313 [==============================] - 23s 74ms/step - loss: 0.6813 - accuracy: 0.5698 - val_loss: 0.6755 - val_accuracy: 0.5904\n",
            "Epoch 6/100\n",
            "313/313 [==============================] - 23s 74ms/step - loss: 0.6646 - accuracy: 0.6137 - val_loss: 0.6590 - val_accuracy: 0.6222\n",
            "Epoch 7/100\n",
            "313/313 [==============================] - 23s 73ms/step - loss: 0.6449 - accuracy: 0.6520 - val_loss: 0.6373 - val_accuracy: 0.6574\n",
            "Epoch 8/100\n",
            "313/313 [==============================] - 23s 73ms/step - loss: 0.6232 - accuracy: 0.6812 - val_loss: 0.6173 - val_accuracy: 0.6828\n",
            "Epoch 9/100\n",
            "313/313 [==============================] - 23s 75ms/step - loss: 0.6052 - accuracy: 0.6977 - val_loss: 0.6049 - val_accuracy: 0.6972\n",
            "Epoch 10/100\n",
            "313/313 [==============================] - 23s 73ms/step - loss: 0.5877 - accuracy: 0.7124 - val_loss: 0.5923 - val_accuracy: 0.7100\n",
            "Epoch 11/100\n",
            "313/313 [==============================] - 23s 72ms/step - loss: 0.5718 - accuracy: 0.7253 - val_loss: 0.5752 - val_accuracy: 0.7186\n",
            "Epoch 12/100\n",
            "313/313 [==============================] - 23s 74ms/step - loss: 0.5600 - accuracy: 0.7331 - val_loss: 0.5651 - val_accuracy: 0.7244\n",
            "Epoch 13/100\n",
            "313/313 [==============================] - 23s 73ms/step - loss: 0.5470 - accuracy: 0.7419 - val_loss: 0.5501 - val_accuracy: 0.7352\n",
            "Epoch 14/100\n",
            "313/313 [==============================] - 23s 73ms/step - loss: 0.5349 - accuracy: 0.7509 - val_loss: 0.5411 - val_accuracy: 0.7388\n",
            "Epoch 15/100\n",
            "313/313 [==============================] - 23s 73ms/step - loss: 0.5248 - accuracy: 0.7551 - val_loss: 0.5347 - val_accuracy: 0.7424\n",
            "Epoch 16/100\n",
            "313/313 [==============================] - 23s 74ms/step - loss: 0.5144 - accuracy: 0.7620 - val_loss: 0.5272 - val_accuracy: 0.7492\n",
            "Epoch 17/100\n",
            "313/313 [==============================] - 23s 74ms/step - loss: 0.5069 - accuracy: 0.7671 - val_loss: 0.5179 - val_accuracy: 0.7554\n",
            "Epoch 18/100\n",
            "313/313 [==============================] - 23s 74ms/step - loss: 0.4991 - accuracy: 0.7721 - val_loss: 0.5126 - val_accuracy: 0.7572\n",
            "Epoch 19/100\n",
            "313/313 [==============================] - 23s 74ms/step - loss: 0.4935 - accuracy: 0.7734 - val_loss: 0.5060 - val_accuracy: 0.7590\n",
            "Epoch 20/100\n",
            "313/313 [==============================] - 23s 75ms/step - loss: 0.4863 - accuracy: 0.7791 - val_loss: 0.5051 - val_accuracy: 0.7612\n",
            "Epoch 21/100\n",
            "313/313 [==============================] - 23s 74ms/step - loss: 0.4801 - accuracy: 0.7837 - val_loss: 0.4984 - val_accuracy: 0.7654\n",
            "Epoch 22/100\n",
            "313/313 [==============================] - 23s 74ms/step - loss: 0.4755 - accuracy: 0.7843 - val_loss: 0.4957 - val_accuracy: 0.7664\n",
            "Epoch 23/100\n",
            "313/313 [==============================] - 23s 75ms/step - loss: 0.4707 - accuracy: 0.7882 - val_loss: 0.4940 - val_accuracy: 0.7706\n",
            "Epoch 24/100\n",
            "313/313 [==============================] - 23s 74ms/step - loss: 0.4662 - accuracy: 0.7917 - val_loss: 0.4885 - val_accuracy: 0.7706\n",
            "Epoch 25/100\n",
            "313/313 [==============================] - 23s 73ms/step - loss: 0.4618 - accuracy: 0.7930 - val_loss: 0.4884 - val_accuracy: 0.7710\n",
            "Epoch 26/100\n",
            "313/313 [==============================] - 23s 74ms/step - loss: 0.4574 - accuracy: 0.7962 - val_loss: 0.4828 - val_accuracy: 0.7752\n",
            "Epoch 27/100\n",
            "313/313 [==============================] - 23s 73ms/step - loss: 0.4532 - accuracy: 0.7977 - val_loss: 0.4852 - val_accuracy: 0.7708\n",
            "Epoch 28/100\n",
            "313/313 [==============================] - 23s 74ms/step - loss: 0.4509 - accuracy: 0.7998 - val_loss: 0.4847 - val_accuracy: 0.7734\n",
            "Epoch 29/100\n",
            "313/313 [==============================] - 23s 74ms/step - loss: 0.4467 - accuracy: 0.8023 - val_loss: 0.4818 - val_accuracy: 0.7744\n",
            "Epoch 30/100\n",
            "313/313 [==============================] - 23s 74ms/step - loss: 0.4442 - accuracy: 0.8049 - val_loss: 0.4767 - val_accuracy: 0.7766\n",
            "Epoch 31/100\n",
            "313/313 [==============================] - 23s 73ms/step - loss: 0.4412 - accuracy: 0.8059 - val_loss: 0.4795 - val_accuracy: 0.7772\n",
            "Epoch 32/100\n",
            "313/313 [==============================] - 23s 74ms/step - loss: 0.4384 - accuracy: 0.8082 - val_loss: 0.4751 - val_accuracy: 0.7768\n",
            "Epoch 33/100\n",
            "313/313 [==============================] - 23s 75ms/step - loss: 0.4360 - accuracy: 0.8099 - val_loss: 0.4788 - val_accuracy: 0.7734\n",
            "Epoch 34/100\n",
            "313/313 [==============================] - 23s 73ms/step - loss: 0.4333 - accuracy: 0.8117 - val_loss: 0.4725 - val_accuracy: 0.7766\n",
            "Epoch 35/100\n",
            "313/313 [==============================] - 23s 73ms/step - loss: 0.4315 - accuracy: 0.8116 - val_loss: 0.4741 - val_accuracy: 0.7798\n",
            "Epoch 36/100\n",
            "313/313 [==============================] - 23s 73ms/step - loss: 0.4297 - accuracy: 0.8140 - val_loss: 0.4753 - val_accuracy: 0.7762\n",
            "Epoch 37/100\n",
            "313/313 [==============================] - 23s 74ms/step - loss: 0.4275 - accuracy: 0.8153 - val_loss: 0.4715 - val_accuracy: 0.7792\n",
            "Epoch 38/100\n",
            "313/313 [==============================] - 22s 72ms/step - loss: 0.4251 - accuracy: 0.8166 - val_loss: 0.4721 - val_accuracy: 0.7778\n",
            "Epoch 39/100\n",
            "313/313 [==============================] - 22s 71ms/step - loss: 0.4240 - accuracy: 0.8160 - val_loss: 0.4713 - val_accuracy: 0.7820\n",
            "Epoch 40/100\n",
            "313/313 [==============================] - 23s 72ms/step - loss: 0.4227 - accuracy: 0.8171 - val_loss: 0.4762 - val_accuracy: 0.7766\n",
            "Epoch 41/100\n",
            "313/313 [==============================] - 23s 72ms/step - loss: 0.4200 - accuracy: 0.8198 - val_loss: 0.4693 - val_accuracy: 0.7812\n",
            "Epoch 42/100\n",
            "313/313 [==============================] - 23s 72ms/step - loss: 0.4183 - accuracy: 0.8221 - val_loss: 0.4695 - val_accuracy: 0.7796\n",
            "Epoch 43/100\n",
            "313/313 [==============================] - 23s 73ms/step - loss: 0.4174 - accuracy: 0.8212 - val_loss: 0.4718 - val_accuracy: 0.7792\n",
            "Epoch 44/100\n",
            "313/313 [==============================] - 23s 75ms/step - loss: 0.4158 - accuracy: 0.8221 - val_loss: 0.4710 - val_accuracy: 0.7808\n"
          ],
          "name": "stdout"
        }
      ]
    },
    {
      "cell_type": "code",
      "metadata": {
        "colab": {
          "base_uri": "https://localhost:8080/",
          "height": 279
        },
        "id": "x8H2uXcOzSP8",
        "outputId": "7d76c24b-2a16-4987-c272-5139d0c1e783"
      },
      "source": [
        "plt.plot(history.history['loss'])\n",
        "plt.plot(history.history['val_loss'])\n",
        "plt.xlabel('epoch')\n",
        "plt.ylabel('loss')\n",
        "plt.legend(['train', 'val'])\n",
        "plt.show()"
      ],
      "execution_count": 24,
      "outputs": [
        {
          "output_type": "display_data",
          "data": {
            "image/png": "[encoded data removed]",
            "text/plain": [
              "<Figure size 432x288 with 1 Axes>"
            ]
          },
          "metadata": {
            "tags": [],
            "needs_background": "light"
          }
        }
      ]
    },
    {
      "cell_type": "code",
      "metadata": {
        "colab": {
          "base_uri": "https://localhost:8080/"
        },
        "id": "KUvXamAs3qXr",
        "outputId": "1eebd50c-929d-43b6-d6e3-248c07ef53a2"
      },
      "source": [
        "print(train_seq.nbytes, train_oh.nbytes)"
      ],
      "execution_count": 25,
      "outputs": [
        {
          "output_type": "stream",
          "text": [
            "8000000 4000000000\n"
          ],
          "name": "stdout"
        }
      ]
    },
    {
      "cell_type": "code",
      "metadata": {
        "id": "aVHe3cSd3xMy"
      },
      "source": [
        "model2 = keras.Sequential()\n",
        "model2.add(keras.layers.Embedding(500, 16, input_length=100))\n",
        "model2.add(keras.layers.SimpleRNN(8))\n",
        "model2.add(keras.layers.Dense(1, activation='sigmoid'))"
      ],
      "execution_count": 26,
      "outputs": []
    },
    {
      "cell_type": "code",
      "metadata": {
        "colab": {
          "base_uri": "https://localhost:8080/"
        },
        "id": "1gQ0-B5e4DJK",
        "outputId": "998a1bbd-6bf0-4e50-ef7c-f138c17726ff"
      },
      "source": [
        "model2.summary()"
      ],
      "execution_count": 27,
      "outputs": [
        {
          "output_type": "stream",
          "text": [
            "Model: \"sequential_1\"\n",
            "_________________________________________________________________\n",
            "Layer (type)                 Output Shape              Param #   \n",
            "=================================================================\n",
            "embedding (Embedding)        (None, 100, 16)           8000      \n",
            "_________________________________________________________________\n",
            "simple_rnn_1 (SimpleRNN)     (None, 8)                 200       \n",
            "_________________________________________________________________\n",
            "dense_1 (Dense)              (None, 1)                 9         \n",
            "=================================================================\n",
            "Total params: 8,209\n",
            "Trainable params: 8,209\n",
            "Non-trainable params: 0\n",
            "_________________________________________________________________\n"
          ],
          "name": "stdout"
        }
      ]
    },
    {
      "cell_type": "code",
      "metadata": {
        "colab": {
          "base_uri": "https://localhost:8080/"
        },
        "id": "ak39YOYE4FnK",
        "outputId": "fbffc69f-affb-4fe5-df39-3903120a01b0"
      },
      "source": [
        "rmsprop = keras.optimizers.RMSprop(learning_rate=1e-4)\n",
        "model2.compile(optimizer=rmsprop, loss='binary_crossentropy', metrics=['accuracy'])\n",
        "checkpoint_cb = keras.callbacks.ModelCheckpoint('best-embedding-model.h5')\n",
        "early_stopping_cb = keras.callbacks.EarlyStopping(patience=3, restore_best_weights=True)\n",
        "history = model2.fit(train_seq, train_target, epochs=100, batch_size=64,\n",
        "                     validation_data=(val_seq, val_target),\n",
        "                     callbacks=[checkpoint_cb, early_stopping_cb])"
      ],
      "execution_count": 29,
      "outputs": [
        {
          "output_type": "stream",
          "text": [
            "Epoch 1/100\n",
            "313/313 [==============================] - 27s 83ms/step - loss: 0.6934 - accuracy: 0.5089 - val_loss: 0.6919 - val_accuracy: 0.5278\n",
            "Epoch 2/100\n",
            "313/313 [==============================] - 25s 81ms/step - loss: 0.6906 - accuracy: 0.5296 - val_loss: 0.6904 - val_accuracy: 0.5348\n",
            "Epoch 3/100\n",
            "313/313 [==============================] - 25s 80ms/step - loss: 0.6846 - accuracy: 0.5656 - val_loss: 0.6810 - val_accuracy: 0.5922\n",
            "Epoch 4/100\n",
            "313/313 [==============================] - 26s 84ms/step - loss: 0.6696 - accuracy: 0.6393 - val_loss: 0.6669 - val_accuracy: 0.6482\n",
            "Epoch 5/100\n",
            "313/313 [==============================] - 26s 84ms/step - loss: 0.6534 - accuracy: 0.6849 - val_loss: 0.6522 - val_accuracy: 0.6828\n",
            "Epoch 6/100\n",
            "313/313 [==============================] - 26s 84ms/step - loss: 0.6361 - accuracy: 0.7137 - val_loss: 0.6361 - val_accuracy: 0.7024\n",
            "Epoch 7/100\n",
            "313/313 [==============================] - 27s 85ms/step - loss: 0.6177 - accuracy: 0.7332 - val_loss: 0.6201 - val_accuracy: 0.7208\n",
            "Epoch 8/100\n",
            "313/313 [==============================] - 26s 83ms/step - loss: 0.6010 - accuracy: 0.7448 - val_loss: 0.6053 - val_accuracy: 0.7208\n",
            "Epoch 9/100\n",
            "313/313 [==============================] - 25s 81ms/step - loss: 0.5847 - accuracy: 0.7515 - val_loss: 0.5872 - val_accuracy: 0.7416\n",
            "Epoch 10/100\n",
            "313/313 [==============================] - 25s 81ms/step - loss: 0.5696 - accuracy: 0.7576 - val_loss: 0.5739 - val_accuracy: 0.7418\n",
            "Epoch 11/100\n",
            "313/313 [==============================] - 26s 82ms/step - loss: 0.5560 - accuracy: 0.7611 - val_loss: 0.5600 - val_accuracy: 0.7544\n",
            "Epoch 12/100\n",
            "313/313 [==============================] - 25s 80ms/step - loss: 0.5444 - accuracy: 0.7652 - val_loss: 0.5495 - val_accuracy: 0.7528\n",
            "Epoch 13/100\n",
            "313/313 [==============================] - 25s 81ms/step - loss: 0.5303 - accuracy: 0.7716 - val_loss: 0.5451 - val_accuracy: 0.7542\n",
            "Epoch 14/100\n",
            "313/313 [==============================] - 27s 85ms/step - loss: 0.5236 - accuracy: 0.7681 - val_loss: 0.5427 - val_accuracy: 0.7444\n",
            "Epoch 15/100\n",
            "313/313 [==============================] - 26s 84ms/step - loss: 0.5141 - accuracy: 0.7715 - val_loss: 0.5362 - val_accuracy: 0.7468\n",
            "Epoch 16/100\n",
            "313/313 [==============================] - 27s 85ms/step - loss: 0.5058 - accuracy: 0.7755 - val_loss: 0.5378 - val_accuracy: 0.7418\n",
            "Epoch 17/100\n",
            "313/313 [==============================] - 26s 85ms/step - loss: 0.5015 - accuracy: 0.7756 - val_loss: 0.5231 - val_accuracy: 0.7572\n",
            "Epoch 18/100\n",
            "313/313 [==============================] - 26s 83ms/step - loss: 0.4930 - accuracy: 0.7814 - val_loss: 0.5207 - val_accuracy: 0.7590\n",
            "Epoch 19/100\n",
            "313/313 [==============================] - 27s 85ms/step - loss: 0.4886 - accuracy: 0.7829 - val_loss: 0.5145 - val_accuracy: 0.7596\n",
            "Epoch 20/100\n",
            "313/313 [==============================] - 27s 86ms/step - loss: 0.4827 - accuracy: 0.7868 - val_loss: 0.5168 - val_accuracy: 0.7570\n",
            "Epoch 21/100\n",
            "313/313 [==============================] - 27s 86ms/step - loss: 0.4804 - accuracy: 0.7872 - val_loss: 0.5147 - val_accuracy: 0.7598\n",
            "Epoch 22/100\n",
            "313/313 [==============================] - 27s 86ms/step - loss: 0.4759 - accuracy: 0.7894 - val_loss: 0.5110 - val_accuracy: 0.7594\n",
            "Epoch 23/100\n",
            "313/313 [==============================] - 26s 84ms/step - loss: 0.4709 - accuracy: 0.7935 - val_loss: 0.5083 - val_accuracy: 0.7604\n",
            "Epoch 24/100\n",
            "313/313 [==============================] - 26s 83ms/step - loss: 0.4664 - accuracy: 0.7951 - val_loss: 0.5078 - val_accuracy: 0.7626\n",
            "Epoch 25/100\n",
            "313/313 [==============================] - 26s 84ms/step - loss: 0.4619 - accuracy: 0.7966 - val_loss: 0.5071 - val_accuracy: 0.7606\n",
            "Epoch 26/100\n",
            "313/313 [==============================] - 26s 83ms/step - loss: 0.4593 - accuracy: 0.7987 - val_loss: 0.5054 - val_accuracy: 0.7644\n",
            "Epoch 27/100\n",
            "313/313 [==============================] - 26s 84ms/step - loss: 0.4560 - accuracy: 0.8012 - val_loss: 0.5051 - val_accuracy: 0.7630\n",
            "Epoch 28/100\n",
            "313/313 [==============================] - 26s 84ms/step - loss: 0.4528 - accuracy: 0.8037 - val_loss: 0.5001 - val_accuracy: 0.7682\n",
            "Epoch 29/100\n",
            "313/313 [==============================] - 26s 84ms/step - loss: 0.4510 - accuracy: 0.8030 - val_loss: 0.4994 - val_accuracy: 0.7684\n",
            "Epoch 30/100\n",
            "313/313 [==============================] - 26s 84ms/step - loss: 0.4487 - accuracy: 0.8050 - val_loss: 0.4977 - val_accuracy: 0.7698\n",
            "Epoch 31/100\n",
            "313/313 [==============================] - 27s 85ms/step - loss: 0.4447 - accuracy: 0.8077 - val_loss: 0.5013 - val_accuracy: 0.7642\n",
            "Epoch 32/100\n",
            "313/313 [==============================] - 26s 84ms/step - loss: 0.4419 - accuracy: 0.8098 - val_loss: 0.4978 - val_accuracy: 0.7690\n",
            "Epoch 33/100\n",
            "313/313 [==============================] - 26s 83ms/step - loss: 0.4395 - accuracy: 0.8104 - val_loss: 0.4988 - val_accuracy: 0.7670\n"
          ],
          "name": "stdout"
        }
      ]
    },
    {
      "cell_type": "code",
      "metadata": {
        "colab": {
          "base_uri": "https://localhost:8080/",
          "height": 279
        },
        "id": "vokInxJ34qFC",
        "outputId": "acb0d498-2bd4-42af-905e-029e1d435df1"
      },
      "source": [
        "plt.plot(history.history['loss'])\n",
        "plt.plot(history.history['val_loss'])\n",
        "plt.xlabel('epoch')\n",
        "plt.ylabel('loss')\n",
        "plt.legend(['train', 'val'])\n",
        "plt.show()"
      ],
      "execution_count": 30,
      "outputs": [
        {
          "output_type": "display_data",
          "data": {
            "image/png": "[encoded data removed]",
            "text/plain": [
              "<Figure size 432x288 with 1 Axes>"
            ]
          },
          "metadata": {
            "tags": [],
            "needs_background": "light"
          }
        }
      ]
    },
    {
      "cell_type": "code",
      "metadata": {
        "id": "WcMTMBpc8CPj"
      },
      "source": [
        ""
      ],
      "execution_count": null,
      "outputs": []
    }
  ]
}