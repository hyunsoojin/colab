{
  "nbformat": 4,
  "nbformat_minor": 0,
  "metadata": {
    "colab": {
      "name": "9-3.ipynb",
      "provenance": [],
      "authorship_tag": "ABX9TyMHxOmT59bfBBAm09dil9kj",
      "include_colab_link": true
    },
    "kernelspec": {
      "name": "python3",
      "display_name": "Python 3"
    },
    "language_info": {
      "name": "python"
    }
  },
  "cells": [
    {
      "cell_type": "markdown",
      "metadata": {
        "id": "view-in-github",
        "colab_type": "text"
      },
      "source": [
        "<a href=\"https://colab.research.google.com/github/hyunsoojin/colab/blob/main/9_3.ipynb\" target=\"_parent\"><img src=\"https://colab.research.google.com/assets/colab-badge.svg\" alt=\"Open In Colab\"/></a>"
      ]
    },
    {
      "cell_type": "code",
      "metadata": {
        "colab": {
          "base_uri": "https://localhost:8080/"
        },
        "id": "ZTGahd3Y8y0C",
        "outputId": "7e5af6a9-fee5-4771-a73b-a57d647b44f4"
      },
      "source": [
        "from tensorflow.keras.datasets import imdb\n",
        "from sklearn.model_selection import train_test_split\n",
        "(train_input, train_target), (test_input, test_target) = imdb.load_data(num_words=500)"
      ],
      "execution_count": 2,
      "outputs": [
        {
          "output_type": "stream",
          "text": [
            "Downloading data from https://storage.googleapis.com/tensorflow/tf-keras-datasets/imdb.npz\n",
            "17465344/17464789 [==============================] - 0s 0us/step\n"
          ],
          "name": "stdout"
        },
        {
          "output_type": "stream",
          "text": [
            "<string>:6: VisibleDeprecationWarning: Creating an ndarray from ragged nested sequences (which is a list-or-tuple of lists-or-tuples-or ndarrays with different lengths or shapes) is deprecated. If you meant to do this, you must specify 'dtype=object' when creating the ndarray\n",
            "/usr/local/lib/python3.7/dist-packages/tensorflow/python/keras/datasets/imdb.py:155: VisibleDeprecationWarning: Creating an ndarray from ragged nested sequences (which is a list-or-tuple of lists-or-tuples-or ndarrays with different lengths or shapes) is deprecated. If you meant to do this, you must specify 'dtype=object' when creating the ndarray\n",
            "  x_train, y_train = np.array(xs[:idx]), np.array(labels[:idx])\n",
            "/usr/local/lib/python3.7/dist-packages/tensorflow/python/keras/datasets/imdb.py:156: VisibleDeprecationWarning: Creating an ndarray from ragged nested sequences (which is a list-or-tuple of lists-or-tuples-or ndarrays with different lengths or shapes) is deprecated. If you meant to do this, you must specify 'dtype=object' when creating the ndarray\n",
            "  x_test, y_test = np.array(xs[idx:]), np.array(labels[idx:])\n"
          ],
          "name": "stderr"
        }
      ]
    },
    {
      "cell_type": "code",
      "metadata": {
        "id": "wMybjnJd9AEB"
      },
      "source": [
        "train_input, val_input, train_target, val_target = train_test_split(\n",
        "    train_input, train_target, test_size=0.2, random_state=42\n",
        ")"
      ],
      "execution_count": 3,
      "outputs": []
    },
    {
      "cell_type": "code",
      "metadata": {
        "id": "GkSfDyd89WjR"
      },
      "source": [
        "from tensorflow.keras.preprocessing.sequence import pad_sequences\n",
        "train_seq = pad_sequences(train_input, maxlen=100)\n",
        "val_seq = pad_sequences(val_input, maxlen=100)"
      ],
      "execution_count": 4,
      "outputs": []
    },
    {
      "cell_type": "code",
      "metadata": {
        "id": "QsnqH11693hx"
      },
      "source": [
        "from tensorflow import keras\n",
        "model = keras.Sequential()\n",
        "model.add(keras.layers.Embedding(500, 16, input_length=100))\n",
        "model.add(keras.layers.LSTM(8))\n",
        "model.add(keras.layers.Dense(1, activation='sigmoid'))"
      ],
      "execution_count": 5,
      "outputs": []
    },
    {
      "cell_type": "code",
      "metadata": {
        "colab": {
          "base_uri": "https://localhost:8080/"
        },
        "id": "KN1hvcTZ-FHx",
        "outputId": "6a880d5a-cb19-48db-c7c8-7baf21431f58"
      },
      "source": [
        "rmsprop = keras.optimizers.RMSprop(learning_rate=1e-4)\n",
        "model.compile(optimizer=rmsprop, loss='binary_crossentropy', metrics=['accuracy'])\n",
        "checkpoint_cb = keras.callbacks.ModelCheckpoint('best-lstm-model.h5')\n",
        "early_stopping_cb = keras.callbacks.EarlyStopping(patience=3, restore_best_weights=True)\n",
        "history = model.fit(train_seq, train_target, epochs=100, batch_size=64,\n",
        "                    validation_data=(val_seq, val_target),\n",
        "                    callbacks = [checkpoint_cb, early_stopping_cb])"
      ],
      "execution_count": 6,
      "outputs": [
        {
          "output_type": "stream",
          "text": [
            "Epoch 1/100\n",
            "313/313 [==============================] - 13s 37ms/step - loss: 0.6924 - accuracy: 0.5371 - val_loss: 0.6917 - val_accuracy: 0.5620\n",
            "Epoch 2/100\n",
            "313/313 [==============================] - 11s 36ms/step - loss: 0.6899 - accuracy: 0.6004 - val_loss: 0.6881 - val_accuracy: 0.6092\n",
            "Epoch 3/100\n",
            "313/313 [==============================] - 11s 36ms/step - loss: 0.6828 - accuracy: 0.6461 - val_loss: 0.6759 - val_accuracy: 0.6738\n",
            "Epoch 4/100\n",
            "313/313 [==============================] - 11s 36ms/step - loss: 0.6469 - accuracy: 0.7005 - val_loss: 0.6087 - val_accuracy: 0.7246\n",
            "Epoch 5/100\n",
            "313/313 [==============================] - 11s 36ms/step - loss: 0.5886 - accuracy: 0.7327 - val_loss: 0.5775 - val_accuracy: 0.7296\n",
            "Epoch 6/100\n",
            "313/313 [==============================] - 11s 36ms/step - loss: 0.5606 - accuracy: 0.7487 - val_loss: 0.5529 - val_accuracy: 0.7484\n",
            "Epoch 7/100\n",
            "313/313 [==============================] - 11s 36ms/step - loss: 0.5345 - accuracy: 0.7639 - val_loss: 0.5315 - val_accuracy: 0.7628\n",
            "Epoch 8/100\n",
            "313/313 [==============================] - 11s 36ms/step - loss: 0.5119 - accuracy: 0.7745 - val_loss: 0.5133 - val_accuracy: 0.7664\n",
            "Epoch 9/100\n",
            "313/313 [==============================] - 11s 36ms/step - loss: 0.4929 - accuracy: 0.7824 - val_loss: 0.4960 - val_accuracy: 0.7768\n",
            "Epoch 10/100\n",
            "313/313 [==============================] - 11s 35ms/step - loss: 0.4765 - accuracy: 0.7916 - val_loss: 0.4836 - val_accuracy: 0.7850\n",
            "Epoch 11/100\n",
            "313/313 [==============================] - 12s 37ms/step - loss: 0.4650 - accuracy: 0.7961 - val_loss: 0.4742 - val_accuracy: 0.7858\n",
            "Epoch 12/100\n",
            "313/313 [==============================] - 11s 36ms/step - loss: 0.4562 - accuracy: 0.7992 - val_loss: 0.4681 - val_accuracy: 0.7880\n",
            "Epoch 13/100\n",
            "313/313 [==============================] - 11s 36ms/step - loss: 0.4487 - accuracy: 0.8023 - val_loss: 0.4635 - val_accuracy: 0.7880\n",
            "Epoch 14/100\n",
            "313/313 [==============================] - 11s 36ms/step - loss: 0.4434 - accuracy: 0.8063 - val_loss: 0.4583 - val_accuracy: 0.7938\n",
            "Epoch 15/100\n",
            "313/313 [==============================] - 11s 36ms/step - loss: 0.4387 - accuracy: 0.8067 - val_loss: 0.4559 - val_accuracy: 0.7902\n",
            "Epoch 16/100\n",
            "313/313 [==============================] - 11s 36ms/step - loss: 0.4344 - accuracy: 0.8078 - val_loss: 0.4527 - val_accuracy: 0.7934\n",
            "Epoch 17/100\n",
            "313/313 [==============================] - 11s 36ms/step - loss: 0.4309 - accuracy: 0.8097 - val_loss: 0.4502 - val_accuracy: 0.7930\n",
            "Epoch 18/100\n",
            "313/313 [==============================] - 11s 36ms/step - loss: 0.4285 - accuracy: 0.8116 - val_loss: 0.4496 - val_accuracy: 0.7932\n",
            "Epoch 19/100\n",
            "313/313 [==============================] - 11s 36ms/step - loss: 0.4257 - accuracy: 0.8116 - val_loss: 0.4473 - val_accuracy: 0.7914\n",
            "Epoch 20/100\n",
            "313/313 [==============================] - 11s 35ms/step - loss: 0.4237 - accuracy: 0.8119 - val_loss: 0.4461 - val_accuracy: 0.7894\n",
            "Epoch 21/100\n",
            "313/313 [==============================] - 11s 36ms/step - loss: 0.4215 - accuracy: 0.8134 - val_loss: 0.4452 - val_accuracy: 0.7950\n",
            "Epoch 22/100\n",
            "313/313 [==============================] - 11s 36ms/step - loss: 0.4197 - accuracy: 0.8137 - val_loss: 0.4421 - val_accuracy: 0.7914\n",
            "Epoch 23/100\n",
            "313/313 [==============================] - 11s 36ms/step - loss: 0.4179 - accuracy: 0.8137 - val_loss: 0.4395 - val_accuracy: 0.7974\n",
            "Epoch 24/100\n",
            "313/313 [==============================] - 11s 36ms/step - loss: 0.4168 - accuracy: 0.8139 - val_loss: 0.4409 - val_accuracy: 0.7980\n",
            "Epoch 25/100\n",
            "313/313 [==============================] - 11s 36ms/step - loss: 0.4153 - accuracy: 0.8142 - val_loss: 0.4372 - val_accuracy: 0.7986\n",
            "Epoch 26/100\n",
            "313/313 [==============================] - 11s 36ms/step - loss: 0.4140 - accuracy: 0.8152 - val_loss: 0.4366 - val_accuracy: 0.7976\n",
            "Epoch 27/100\n",
            "313/313 [==============================] - 11s 36ms/step - loss: 0.4132 - accuracy: 0.8148 - val_loss: 0.4375 - val_accuracy: 0.7974\n",
            "Epoch 28/100\n",
            "313/313 [==============================] - 11s 36ms/step - loss: 0.4117 - accuracy: 0.8156 - val_loss: 0.4367 - val_accuracy: 0.7992\n",
            "Epoch 29/100\n",
            "313/313 [==============================] - 11s 36ms/step - loss: 0.4110 - accuracy: 0.8163 - val_loss: 0.4345 - val_accuracy: 0.7990\n",
            "Epoch 30/100\n",
            "313/313 [==============================] - 11s 37ms/step - loss: 0.4098 - accuracy: 0.8159 - val_loss: 0.4367 - val_accuracy: 0.8006\n",
            "Epoch 31/100\n",
            "313/313 [==============================] - 12s 37ms/step - loss: 0.4088 - accuracy: 0.8178 - val_loss: 0.4343 - val_accuracy: 0.7982\n",
            "Epoch 32/100\n",
            "313/313 [==============================] - 11s 37ms/step - loss: 0.4081 - accuracy: 0.8163 - val_loss: 0.4349 - val_accuracy: 0.7990\n",
            "Epoch 33/100\n",
            "313/313 [==============================] - 11s 36ms/step - loss: 0.4077 - accuracy: 0.8158 - val_loss: 0.4362 - val_accuracy: 0.7990\n",
            "Epoch 34/100\n",
            "313/313 [==============================] - 11s 36ms/step - loss: 0.4068 - accuracy: 0.8171 - val_loss: 0.4329 - val_accuracy: 0.8018\n",
            "Epoch 35/100\n",
            "313/313 [==============================] - 11s 36ms/step - loss: 0.4056 - accuracy: 0.8184 - val_loss: 0.4356 - val_accuracy: 0.8018\n",
            "Epoch 36/100\n",
            "313/313 [==============================] - 11s 37ms/step - loss: 0.4052 - accuracy: 0.8176 - val_loss: 0.4347 - val_accuracy: 0.8024\n",
            "Epoch 37/100\n",
            "313/313 [==============================] - 11s 36ms/step - loss: 0.4045 - accuracy: 0.8168 - val_loss: 0.4323 - val_accuracy: 0.8018\n",
            "Epoch 38/100\n",
            "313/313 [==============================] - 11s 36ms/step - loss: 0.4037 - accuracy: 0.8180 - val_loss: 0.4330 - val_accuracy: 0.8018\n",
            "Epoch 39/100\n",
            "313/313 [==============================] - 11s 36ms/step - loss: 0.4031 - accuracy: 0.8190 - val_loss: 0.4312 - val_accuracy: 0.8002\n",
            "Epoch 40/100\n",
            "313/313 [==============================] - 11s 36ms/step - loss: 0.4023 - accuracy: 0.8191 - val_loss: 0.4322 - val_accuracy: 0.8028\n",
            "Epoch 41/100\n",
            "313/313 [==============================] - 11s 36ms/step - loss: 0.4019 - accuracy: 0.8184 - val_loss: 0.4335 - val_accuracy: 0.8028\n",
            "Epoch 42/100\n",
            "313/313 [==============================] - 11s 37ms/step - loss: 0.4012 - accuracy: 0.8196 - val_loss: 0.4307 - val_accuracy: 0.8038\n",
            "Epoch 43/100\n",
            "313/313 [==============================] - 11s 37ms/step - loss: 0.4004 - accuracy: 0.8198 - val_loss: 0.4299 - val_accuracy: 0.8016\n",
            "Epoch 44/100\n",
            "313/313 [==============================] - 11s 36ms/step - loss: 0.3998 - accuracy: 0.8184 - val_loss: 0.4317 - val_accuracy: 0.8032\n",
            "Epoch 45/100\n",
            "313/313 [==============================] - 12s 37ms/step - loss: 0.3994 - accuracy: 0.8198 - val_loss: 0.4294 - val_accuracy: 0.8012\n",
            "Epoch 46/100\n",
            "313/313 [==============================] - 11s 36ms/step - loss: 0.3987 - accuracy: 0.8199 - val_loss: 0.4293 - val_accuracy: 0.8040\n",
            "Epoch 47/100\n",
            "313/313 [==============================] - 11s 37ms/step - loss: 0.3983 - accuracy: 0.8191 - val_loss: 0.4319 - val_accuracy: 0.8032\n",
            "Epoch 48/100\n",
            "313/313 [==============================] - 11s 36ms/step - loss: 0.3981 - accuracy: 0.8191 - val_loss: 0.4326 - val_accuracy: 0.8058\n",
            "Epoch 49/100\n",
            "313/313 [==============================] - 11s 36ms/step - loss: 0.3971 - accuracy: 0.8212 - val_loss: 0.4295 - val_accuracy: 0.8012\n"
          ],
          "name": "stdout"
        }
      ]
    },
    {
      "cell_type": "code",
      "metadata": {
        "colab": {
          "base_uri": "https://localhost:8080/",
          "height": 279
        },
        "id": "8Hc1SYUF-qMa",
        "outputId": "5e9583df-3125-47b5-bcf0-8b9cadd0c0e1"
      },
      "source": [
        "import matplotlib.pyplot as plt\n",
        "plt.plot(history.history['loss'])\n",
        "plt.plot(history.history['val_loss'])\n",
        "plt.xlabel('epoch')\n",
        "plt.ylabel('loss')\n",
        "plt.legend(['train', 'val'])\n",
        "plt.show()"
      ],
      "execution_count": 7,
      "outputs": [
        {
          "output_type": "display_data",
          "data": {
            "image/png": "[encoded data removed]",
            "text/plain": [
              "<Figure size 432x288 with 1 Axes>"
            ]
          },
          "metadata": {
            "tags": [],
            "needs_background": "light"
          }
        }
      ]
    },
    {
      "cell_type": "code",
      "metadata": {
        "id": "EWP1vGk_BCJy"
      },
      "source": [
        "model2 = keras.Sequential()\n",
        "model2.add(keras.layers.Embedding(500, 16, input_length=100))\n",
        "model2.add(keras.layers.LSTM(8, dropout=0.3))\n",
        "model2.add(keras.layers.Dense(1, activation='sigmoid'))"
      ],
      "execution_count": 9,
      "outputs": []
    },
    {
      "cell_type": "code",
      "metadata": {
        "colab": {
          "base_uri": "https://localhost:8080/"
        },
        "id": "0lTLvsVKBgnH",
        "outputId": "b8b6ffcd-6532-4e76-a26b-1343ea6d3849"
      },
      "source": [
        "rmsprop = keras.optimizers.RMSprop(learning_rate=1e-4)\n",
        "model2.compile(optimizer=rmsprop, loss='binary_crossentropy', metrics=['accuracy'])\n",
        "checkpoint_cb = keras.callbacks.ModelCheckpoint('best-dropout-model.h5')\n",
        "early_stopping_cb = keras.callbacks.EarlyStopping(patience=3, restore_best_weights=True)\n",
        "history = model2.fit(train_seq, train_target, epochs=100, batch_size=64,\n",
        "                    validation_data=(val_seq, val_target),\n",
        "                    callbacks = [checkpoint_cb, early_stopping_cb])"
      ],
      "execution_count": 13,
      "outputs": [
        {
          "output_type": "stream",
          "text": [
            "Epoch 1/100\n",
            "313/313 [==============================] - 14s 38ms/step - loss: 0.6929 - accuracy: 0.5193 - val_loss: 0.6924 - val_accuracy: 0.5444\n",
            "Epoch 2/100\n",
            "313/313 [==============================] - 12s 39ms/step - loss: 0.6914 - accuracy: 0.5812 - val_loss: 0.6904 - val_accuracy: 0.5992\n",
            "Epoch 3/100\n",
            "313/313 [==============================] - 12s 38ms/step - loss: 0.6877 - accuracy: 0.6170 - val_loss: 0.6848 - val_accuracy: 0.6484\n",
            "Epoch 4/100\n",
            "313/313 [==============================] - 11s 37ms/step - loss: 0.6777 - accuracy: 0.6562 - val_loss: 0.6674 - val_accuracy: 0.6790\n",
            "Epoch 5/100\n",
            "313/313 [==============================] - 12s 38ms/step - loss: 0.6320 - accuracy: 0.7020 - val_loss: 0.5913 - val_accuracy: 0.7132\n",
            "Epoch 6/100\n",
            "313/313 [==============================] - 12s 37ms/step - loss: 0.5747 - accuracy: 0.7244 - val_loss: 0.5633 - val_accuracy: 0.7338\n",
            "Epoch 7/100\n",
            "313/313 [==============================] - 12s 38ms/step - loss: 0.5496 - accuracy: 0.7444 - val_loss: 0.5407 - val_accuracy: 0.7500\n",
            "Epoch 8/100\n",
            "313/313 [==============================] - 12s 37ms/step - loss: 0.5281 - accuracy: 0.7580 - val_loss: 0.5241 - val_accuracy: 0.7554\n",
            "Epoch 9/100\n",
            "313/313 [==============================] - 12s 40ms/step - loss: 0.5121 - accuracy: 0.7678 - val_loss: 0.5058 - val_accuracy: 0.7752\n",
            "Epoch 10/100\n",
            "313/313 [==============================] - 12s 37ms/step - loss: 0.4947 - accuracy: 0.7796 - val_loss: 0.4907 - val_accuracy: 0.7820\n",
            "Epoch 11/100\n",
            "313/313 [==============================] - 12s 38ms/step - loss: 0.4821 - accuracy: 0.7865 - val_loss: 0.4827 - val_accuracy: 0.7822\n",
            "Epoch 12/100\n",
            "313/313 [==============================] - 12s 37ms/step - loss: 0.4727 - accuracy: 0.7894 - val_loss: 0.4713 - val_accuracy: 0.7874\n",
            "Epoch 13/100\n",
            "313/313 [==============================] - 12s 37ms/step - loss: 0.4634 - accuracy: 0.7931 - val_loss: 0.4646 - val_accuracy: 0.7898\n",
            "Epoch 14/100\n",
            "313/313 [==============================] - 11s 37ms/step - loss: 0.4565 - accuracy: 0.7958 - val_loss: 0.4586 - val_accuracy: 0.7910\n",
            "Epoch 15/100\n",
            "313/313 [==============================] - 12s 38ms/step - loss: 0.4498 - accuracy: 0.7982 - val_loss: 0.4535 - val_accuracy: 0.7920\n",
            "Epoch 16/100\n",
            "313/313 [==============================] - 12s 37ms/step - loss: 0.4457 - accuracy: 0.7989 - val_loss: 0.4503 - val_accuracy: 0.7922\n",
            "Epoch 17/100\n",
            "313/313 [==============================] - 11s 36ms/step - loss: 0.4405 - accuracy: 0.8012 - val_loss: 0.4467 - val_accuracy: 0.7944\n",
            "Epoch 18/100\n",
            "313/313 [==============================] - 12s 37ms/step - loss: 0.4378 - accuracy: 0.8045 - val_loss: 0.4448 - val_accuracy: 0.7968\n",
            "Epoch 19/100\n",
            "313/313 [==============================] - 12s 37ms/step - loss: 0.4351 - accuracy: 0.8046 - val_loss: 0.4429 - val_accuracy: 0.7964\n",
            "Epoch 20/100\n",
            "313/313 [==============================] - 12s 37ms/step - loss: 0.4336 - accuracy: 0.8056 - val_loss: 0.4414 - val_accuracy: 0.7986\n",
            "Epoch 21/100\n",
            "313/313 [==============================] - 12s 37ms/step - loss: 0.4302 - accuracy: 0.8046 - val_loss: 0.4417 - val_accuracy: 0.7978\n",
            "Epoch 22/100\n",
            "313/313 [==============================] - 12s 38ms/step - loss: 0.4288 - accuracy: 0.8056 - val_loss: 0.4392 - val_accuracy: 0.7978\n",
            "Epoch 23/100\n",
            "313/313 [==============================] - 12s 37ms/step - loss: 0.4276 - accuracy: 0.8058 - val_loss: 0.4479 - val_accuracy: 0.7962\n",
            "Epoch 24/100\n",
            "313/313 [==============================] - 12s 38ms/step - loss: 0.4258 - accuracy: 0.8065 - val_loss: 0.4368 - val_accuracy: 0.7978\n",
            "Epoch 25/100\n",
            "313/313 [==============================] - 12s 38ms/step - loss: 0.4242 - accuracy: 0.8077 - val_loss: 0.4363 - val_accuracy: 0.8008\n",
            "Epoch 26/100\n",
            "313/313 [==============================] - 12s 37ms/step - loss: 0.4246 - accuracy: 0.8086 - val_loss: 0.4362 - val_accuracy: 0.7968\n",
            "Epoch 27/100\n",
            "313/313 [==============================] - 12s 37ms/step - loss: 0.4222 - accuracy: 0.8087 - val_loss: 0.4383 - val_accuracy: 0.7948\n",
            "Epoch 28/100\n",
            "313/313 [==============================] - 12s 37ms/step - loss: 0.4215 - accuracy: 0.8109 - val_loss: 0.4353 - val_accuracy: 0.8016\n",
            "Epoch 29/100\n",
            "313/313 [==============================] - 12s 38ms/step - loss: 0.4202 - accuracy: 0.8080 - val_loss: 0.4351 - val_accuracy: 0.7962\n",
            "Epoch 30/100\n",
            "313/313 [==============================] - 12s 38ms/step - loss: 0.4198 - accuracy: 0.8099 - val_loss: 0.4381 - val_accuracy: 0.7942\n",
            "Epoch 31/100\n",
            "313/313 [==============================] - 12s 38ms/step - loss: 0.4194 - accuracy: 0.8091 - val_loss: 0.4340 - val_accuracy: 0.7970\n",
            "Epoch 32/100\n",
            "313/313 [==============================] - 12s 37ms/step - loss: 0.4190 - accuracy: 0.8080 - val_loss: 0.4337 - val_accuracy: 0.8020\n",
            "Epoch 33/100\n",
            "313/313 [==============================] - 12s 38ms/step - loss: 0.4184 - accuracy: 0.8095 - val_loss: 0.4333 - val_accuracy: 0.8018\n",
            "Epoch 34/100\n",
            "313/313 [==============================] - 12s 38ms/step - loss: 0.4175 - accuracy: 0.8117 - val_loss: 0.4343 - val_accuracy: 0.7978\n",
            "Epoch 35/100\n",
            "313/313 [==============================] - 12s 38ms/step - loss: 0.4156 - accuracy: 0.8095 - val_loss: 0.4334 - val_accuracy: 0.8012\n",
            "Epoch 36/100\n",
            "313/313 [==============================] - 12s 38ms/step - loss: 0.4161 - accuracy: 0.8110 - val_loss: 0.4340 - val_accuracy: 0.8014\n"
          ],
          "name": "stdout"
        }
      ]
    },
    {
      "cell_type": "code",
      "metadata": {
        "colab": {
          "base_uri": "https://localhost:8080/",
          "height": 279
        },
        "id": "--AYoy9oCGUf",
        "outputId": "fad12a75-29bd-4c0f-91c0-111878d4201c"
      },
      "source": [
        "import matplotlib.pyplot as plt\n",
        "plt.plot(history.history['loss'])\n",
        "plt.plot(history.history['val_loss'])\n",
        "plt.xlabel('epoch')\n",
        "plt.ylabel('loss')\n",
        "plt.legend(['train', 'val'])\n",
        "plt.show()"
      ],
      "execution_count": 14,
      "outputs": [
        {
          "output_type": "display_data",
          "data": {
            "image/png": "[encoded data removed]",
            "text/plain": [
              "<Figure size 432x288 with 1 Axes>"
            ]
          },
          "metadata": {
            "tags": [],
            "needs_background": "light"
          }
        }
      ]
    },
    {
      "cell_type": "code",
      "metadata": {
        "id": "bd3qkA8EE0jB"
      },
      "source": [
        "model3 = keras.Sequential()\n",
        "model3.add(keras.layers.Embedding(500, 16, input_length=100))\n",
        "model3.add(keras.layers.LSTM(8, dropout=0.3, return_sequences=True))\n",
        "model3.add(keras.layers.LSTM(8, dropout=0.3))\n",
        "model3.add(keras.layers.Dense(1, activation='sigmoid'))"
      ],
      "execution_count": 16,
      "outputs": []
    },
    {
      "cell_type": "code",
      "metadata": {
        "colab": {
          "base_uri": "https://localhost:8080/"
        },
        "id": "3N9EQzakFKi4",
        "outputId": "833c8b6c-efe8-44cc-acb0-412a855c828c"
      },
      "source": [
        "model3.summary()"
      ],
      "execution_count": 17,
      "outputs": [
        {
          "output_type": "stream",
          "text": [
            "Model: \"sequential_3\"\n",
            "_________________________________________________________________\n",
            "Layer (type)                 Output Shape              Param #   \n",
            "=================================================================\n",
            "embedding_3 (Embedding)      (None, 100, 16)           8000      \n",
            "_________________________________________________________________\n",
            "lstm_2 (LSTM)                (None, 100, 8)            800       \n",
            "_________________________________________________________________\n",
            "lstm_3 (LSTM)                (None, 8)                 544       \n",
            "_________________________________________________________________\n",
            "dense_2 (Dense)              (None, 1)                 9         \n",
            "=================================================================\n",
            "Total params: 9,353\n",
            "Trainable params: 9,353\n",
            "Non-trainable params: 0\n",
            "_________________________________________________________________\n"
          ],
          "name": "stdout"
        }
      ]
    },
    {
      "cell_type": "code",
      "metadata": {
        "colab": {
          "base_uri": "https://localhost:8080/"
        },
        "id": "13bN8pwPFO9f",
        "outputId": "b7f419d1-64f2-4946-d2a8-96bb9deafdca"
      },
      "source": [
        "rmsprop = keras.optimizers.RMSprop(learning_rate=1e-4)\n",
        "model3.compile(optimizer=rmsprop, loss='binary_crossentropy', metrics=['accuracy'])\n",
        "checkpoint_cb = keras.callbacks.ModelCheckpoint('best-2rnn-model.h5')\n",
        "early_stopping_cb = keras.callbacks.EarlyStopping(patience=3, restore_best_weights=True)\n",
        "history = model3.fit(train_seq, train_target, epochs=100, batch_size=64,\n",
        "                    validation_data=(val_seq, val_target),\n",
        "                    callbacks = [checkpoint_cb, early_stopping_cb])"
      ],
      "execution_count": 18,
      "outputs": [
        {
          "output_type": "stream",
          "text": [
            "Epoch 1/100\n",
            "313/313 [==============================] - 26s 73ms/step - loss: 0.6922 - accuracy: 0.5360 - val_loss: 0.6906 - val_accuracy: 0.5922\n",
            "Epoch 2/100\n",
            "313/313 [==============================] - 22s 70ms/step - loss: 0.6864 - accuracy: 0.5955 - val_loss: 0.6769 - val_accuracy: 0.6402\n",
            "Epoch 3/100\n",
            "313/313 [==============================] - 22s 72ms/step - loss: 0.6496 - accuracy: 0.6628 - val_loss: 0.6095 - val_accuracy: 0.7000\n",
            "Epoch 4/100\n",
            "313/313 [==============================] - 23s 73ms/step - loss: 0.5855 - accuracy: 0.7156 - val_loss: 0.5571 - val_accuracy: 0.7334\n",
            "Epoch 5/100\n",
            "313/313 [==============================] - 22s 72ms/step - loss: 0.5501 - accuracy: 0.7368 - val_loss: 0.5314 - val_accuracy: 0.7464\n",
            "Epoch 6/100\n",
            "313/313 [==============================] - 23s 72ms/step - loss: 0.5269 - accuracy: 0.7502 - val_loss: 0.5177 - val_accuracy: 0.7536\n",
            "Epoch 7/100\n",
            "313/313 [==============================] - 23s 72ms/step - loss: 0.5091 - accuracy: 0.7641 - val_loss: 0.5004 - val_accuracy: 0.7658\n",
            "Epoch 8/100\n",
            "313/313 [==============================] - 23s 73ms/step - loss: 0.4975 - accuracy: 0.7695 - val_loss: 0.4881 - val_accuracy: 0.7720\n",
            "Epoch 9/100\n",
            "313/313 [==============================] - 23s 74ms/step - loss: 0.4856 - accuracy: 0.7763 - val_loss: 0.4795 - val_accuracy: 0.7774\n",
            "Epoch 10/100\n",
            "313/313 [==============================] - 23s 73ms/step - loss: 0.4767 - accuracy: 0.7804 - val_loss: 0.4760 - val_accuracy: 0.7786\n",
            "Epoch 11/100\n",
            "313/313 [==============================] - 23s 72ms/step - loss: 0.4738 - accuracy: 0.7812 - val_loss: 0.4712 - val_accuracy: 0.7822\n",
            "Epoch 12/100\n",
            "313/313 [==============================] - 22s 72ms/step - loss: 0.4685 - accuracy: 0.7805 - val_loss: 0.4645 - val_accuracy: 0.7862\n",
            "Epoch 13/100\n",
            "313/313 [==============================] - 23s 72ms/step - loss: 0.4630 - accuracy: 0.7867 - val_loss: 0.4665 - val_accuracy: 0.7822\n",
            "Epoch 14/100\n",
            "313/313 [==============================] - 22s 72ms/step - loss: 0.4579 - accuracy: 0.7904 - val_loss: 0.4582 - val_accuracy: 0.7870\n",
            "Epoch 15/100\n",
            "313/313 [==============================] - 22s 71ms/step - loss: 0.4547 - accuracy: 0.7933 - val_loss: 0.4615 - val_accuracy: 0.7844\n",
            "Epoch 16/100\n",
            "313/313 [==============================] - 23s 72ms/step - loss: 0.4508 - accuracy: 0.7915 - val_loss: 0.4550 - val_accuracy: 0.7856\n",
            "Epoch 17/100\n",
            "313/313 [==============================] - 23s 72ms/step - loss: 0.4485 - accuracy: 0.7944 - val_loss: 0.4511 - val_accuracy: 0.7870\n",
            "Epoch 18/100\n",
            "313/313 [==============================] - 23s 72ms/step - loss: 0.4453 - accuracy: 0.7982 - val_loss: 0.4489 - val_accuracy: 0.7920\n",
            "Epoch 19/100\n",
            "313/313 [==============================] - 23s 72ms/step - loss: 0.4422 - accuracy: 0.7988 - val_loss: 0.4482 - val_accuracy: 0.7918\n",
            "Epoch 20/100\n",
            "313/313 [==============================] - 23s 72ms/step - loss: 0.4406 - accuracy: 0.7980 - val_loss: 0.4554 - val_accuracy: 0.7900\n",
            "Epoch 21/100\n",
            "313/313 [==============================] - 23s 73ms/step - loss: 0.4389 - accuracy: 0.7991 - val_loss: 0.4452 - val_accuracy: 0.7878\n",
            "Epoch 22/100\n",
            "313/313 [==============================] - 23s 72ms/step - loss: 0.4370 - accuracy: 0.8001 - val_loss: 0.4431 - val_accuracy: 0.7944\n",
            "Epoch 23/100\n",
            "313/313 [==============================] - 23s 73ms/step - loss: 0.4358 - accuracy: 0.8012 - val_loss: 0.4411 - val_accuracy: 0.7940\n",
            "Epoch 24/100\n",
            "313/313 [==============================] - 23s 73ms/step - loss: 0.4331 - accuracy: 0.8014 - val_loss: 0.4398 - val_accuracy: 0.7912\n",
            "Epoch 25/100\n",
            "313/313 [==============================] - 23s 74ms/step - loss: 0.4329 - accuracy: 0.8019 - val_loss: 0.4418 - val_accuracy: 0.7976\n",
            "Epoch 26/100\n",
            "313/313 [==============================] - 23s 72ms/step - loss: 0.4324 - accuracy: 0.8009 - val_loss: 0.4387 - val_accuracy: 0.7918\n",
            "Epoch 27/100\n",
            "313/313 [==============================] - 23s 72ms/step - loss: 0.4319 - accuracy: 0.8011 - val_loss: 0.4375 - val_accuracy: 0.7952\n",
            "Epoch 28/100\n",
            "313/313 [==============================] - 22s 72ms/step - loss: 0.4276 - accuracy: 0.8041 - val_loss: 0.4362 - val_accuracy: 0.7968\n",
            "Epoch 29/100\n",
            "313/313 [==============================] - 23s 73ms/step - loss: 0.4275 - accuracy: 0.8042 - val_loss: 0.4397 - val_accuracy: 0.7890\n",
            "Epoch 30/100\n",
            "313/313 [==============================] - 23s 72ms/step - loss: 0.4254 - accuracy: 0.8051 - val_loss: 0.4373 - val_accuracy: 0.7950\n",
            "Epoch 31/100\n",
            "313/313 [==============================] - 23s 72ms/step - loss: 0.4255 - accuracy: 0.8079 - val_loss: 0.4334 - val_accuracy: 0.7978\n",
            "Epoch 32/100\n",
            "313/313 [==============================] - 22s 72ms/step - loss: 0.4252 - accuracy: 0.8044 - val_loss: 0.4363 - val_accuracy: 0.7934\n",
            "Epoch 33/100\n",
            "313/313 [==============================] - 23s 73ms/step - loss: 0.4242 - accuracy: 0.8059 - val_loss: 0.4331 - val_accuracy: 0.7990\n",
            "Epoch 34/100\n",
            "313/313 [==============================] - 23s 72ms/step - loss: 0.4228 - accuracy: 0.8074 - val_loss: 0.4326 - val_accuracy: 0.7988\n",
            "Epoch 35/100\n",
            "313/313 [==============================] - 23s 73ms/step - loss: 0.4194 - accuracy: 0.8081 - val_loss: 0.4339 - val_accuracy: 0.7966\n",
            "Epoch 36/100\n",
            "313/313 [==============================] - 23s 73ms/step - loss: 0.4203 - accuracy: 0.8092 - val_loss: 0.4376 - val_accuracy: 0.7990\n",
            "Epoch 37/100\n",
            "313/313 [==============================] - 23s 73ms/step - loss: 0.4199 - accuracy: 0.8091 - val_loss: 0.4305 - val_accuracy: 0.8006\n",
            "Epoch 38/100\n",
            "313/313 [==============================] - 23s 73ms/step - loss: 0.4194 - accuracy: 0.8101 - val_loss: 0.4327 - val_accuracy: 0.8012\n",
            "Epoch 39/100\n",
            "313/313 [==============================] - 23s 74ms/step - loss: 0.4185 - accuracy: 0.8087 - val_loss: 0.4298 - val_accuracy: 0.8028\n",
            "Epoch 40/100\n",
            "313/313 [==============================] - 22s 72ms/step - loss: 0.4202 - accuracy: 0.8080 - val_loss: 0.4290 - val_accuracy: 0.8036\n",
            "Epoch 41/100\n",
            "313/313 [==============================] - 22s 72ms/step - loss: 0.4145 - accuracy: 0.8095 - val_loss: 0.4307 - val_accuracy: 0.7990\n",
            "Epoch 42/100\n",
            "313/313 [==============================] - 23s 72ms/step - loss: 0.4183 - accuracy: 0.8094 - val_loss: 0.4284 - val_accuracy: 0.8032\n",
            "Epoch 43/100\n",
            "313/313 [==============================] - 23s 73ms/step - loss: 0.4154 - accuracy: 0.8098 - val_loss: 0.4323 - val_accuracy: 0.7966\n",
            "Epoch 44/100\n",
            "313/313 [==============================] - 22s 72ms/step - loss: 0.4158 - accuracy: 0.8113 - val_loss: 0.4285 - val_accuracy: 0.8024\n",
            "Epoch 45/100\n",
            "313/313 [==============================] - 23s 73ms/step - loss: 0.4140 - accuracy: 0.8107 - val_loss: 0.4278 - val_accuracy: 0.8036\n",
            "Epoch 46/100\n",
            "313/313 [==============================] - 23s 72ms/step - loss: 0.4137 - accuracy: 0.8117 - val_loss: 0.4290 - val_accuracy: 0.8032\n",
            "Epoch 47/100\n",
            "313/313 [==============================] - 23s 73ms/step - loss: 0.4147 - accuracy: 0.8110 - val_loss: 0.4289 - val_accuracy: 0.8036\n",
            "Epoch 48/100\n",
            "313/313 [==============================] - 22s 72ms/step - loss: 0.4132 - accuracy: 0.8126 - val_loss: 0.4290 - val_accuracy: 0.8030\n"
          ],
          "name": "stdout"
        }
      ]
    },
    {
      "cell_type": "code",
      "metadata": {
        "colab": {
          "base_uri": "https://localhost:8080/",
          "height": 279
        },
        "id": "LhYac1-_FdXX",
        "outputId": "d7cb80ca-c043-473a-d193-326346a5ea34"
      },
      "source": [
        "import matplotlib.pyplot as plt\n",
        "plt.plot(history.history['loss'])\n",
        "plt.plot(history.history['val_loss'])\n",
        "plt.xlabel('epoch')\n",
        "plt.ylabel('loss')\n",
        "plt.legend(['train', 'val'])\n",
        "plt.show()"
      ],
      "execution_count": 19,
      "outputs": [
        {
          "output_type": "display_data",
          "data": {
            "image/png": "[encoded data removed]",
            "text/plain": [
              "<Figure size 432x288 with 1 Axes>"
            ]
          },
          "metadata": {
            "tags": [],
            "needs_background": "light"
          }
        }
      ]
    },
    {
      "cell_type": "code",
      "metadata": {
        "id": "3zxYhT9eOPsX"
      },
      "source": [
        "model4 = keras.Sequential()\n",
        "model4.add(keras.layers.Embedding(500, 16, input_length=100))\n",
        "model4.add(keras.layers.GRU(8))\n",
        "model4.add(keras.layers.Dense(1, activation='sigmoid'))"
      ],
      "execution_count": 20,
      "outputs": []
    },
    {
      "cell_type": "code",
      "metadata": {
        "colab": {
          "base_uri": "https://localhost:8080/"
        },
        "id": "3W8twlHvOi-2",
        "outputId": "4085d7a4-af5c-46db-9a33-96023ca20695"
      },
      "source": [
        "rmsprop = keras.optimizers.RMSprop(learning_rate=1e-4)\n",
        "model4.compile(optimizer=rmsprop, loss='binary_crossentropy', metrics=['accuracy'])\n",
        "checkpoint_cb = keras.callbacks.ModelCheckpoint('best-gru-model.h5')\n",
        "early_stopping_cb = keras.callbacks.EarlyStopping(patience=3, restore_best_weights=True)\n",
        "history = model4.fit(train_seq, train_target, epochs=100, batch_size=64,\n",
        "                    validation_data=(val_seq, val_target),\n",
        "                    callbacks = [checkpoint_cb, early_stopping_cb])"
      ],
      "execution_count": 21,
      "outputs": [
        {
          "output_type": "stream",
          "text": [
            "Epoch 1/100\n",
            "313/313 [==============================] - 14s 40ms/step - loss: 0.6925 - accuracy: 0.5229 - val_loss: 0.6917 - val_accuracy: 0.5640\n",
            "Epoch 2/100\n",
            "313/313 [==============================] - 12s 39ms/step - loss: 0.6902 - accuracy: 0.5859 - val_loss: 0.6890 - val_accuracy: 0.5978\n",
            "Epoch 3/100\n",
            "313/313 [==============================] - 13s 40ms/step - loss: 0.6863 - accuracy: 0.6089 - val_loss: 0.6840 - val_accuracy: 0.6128\n",
            "Epoch 4/100\n",
            "313/313 [==============================] - 12s 40ms/step - loss: 0.6790 - accuracy: 0.6328 - val_loss: 0.6749 - val_accuracy: 0.6282\n",
            "Epoch 5/100\n",
            "313/313 [==============================] - 12s 40ms/step - loss: 0.6649 - accuracy: 0.6532 - val_loss: 0.6568 - val_accuracy: 0.6532\n",
            "Epoch 6/100\n",
            "313/313 [==============================] - 12s 40ms/step - loss: 0.6339 - accuracy: 0.6734 - val_loss: 0.6140 - val_accuracy: 0.6772\n",
            "Epoch 7/100\n",
            "313/313 [==============================] - 12s 40ms/step - loss: 0.5775 - accuracy: 0.7132 - val_loss: 0.5610 - val_accuracy: 0.7316\n",
            "Epoch 8/100\n",
            "313/313 [==============================] - 12s 39ms/step - loss: 0.5408 - accuracy: 0.7426 - val_loss: 0.5411 - val_accuracy: 0.7456\n",
            "Epoch 9/100\n",
            "313/313 [==============================] - 12s 39ms/step - loss: 0.5232 - accuracy: 0.7548 - val_loss: 0.5254 - val_accuracy: 0.7550\n",
            "Epoch 10/100\n",
            "313/313 [==============================] - 12s 40ms/step - loss: 0.5091 - accuracy: 0.7612 - val_loss: 0.5148 - val_accuracy: 0.7546\n",
            "Epoch 11/100\n",
            "313/313 [==============================] - 12s 39ms/step - loss: 0.4974 - accuracy: 0.7681 - val_loss: 0.5039 - val_accuracy: 0.7668\n",
            "Epoch 12/100\n",
            "313/313 [==============================] - 12s 40ms/step - loss: 0.4876 - accuracy: 0.7727 - val_loss: 0.4956 - val_accuracy: 0.7720\n",
            "Epoch 13/100\n",
            "313/313 [==============================] - 13s 40ms/step - loss: 0.4794 - accuracy: 0.7780 - val_loss: 0.4884 - val_accuracy: 0.7768\n",
            "Epoch 14/100\n",
            "313/313 [==============================] - 12s 40ms/step - loss: 0.4723 - accuracy: 0.7829 - val_loss: 0.4853 - val_accuracy: 0.7684\n",
            "Epoch 15/100\n",
            "313/313 [==============================] - 13s 41ms/step - loss: 0.4659 - accuracy: 0.7875 - val_loss: 0.4778 - val_accuracy: 0.7834\n",
            "Epoch 16/100\n",
            "313/313 [==============================] - 12s 39ms/step - loss: 0.4607 - accuracy: 0.7897 - val_loss: 0.4722 - val_accuracy: 0.7814\n",
            "Epoch 17/100\n",
            "313/313 [==============================] - 12s 39ms/step - loss: 0.4557 - accuracy: 0.7930 - val_loss: 0.4713 - val_accuracy: 0.7842\n",
            "Epoch 18/100\n",
            "313/313 [==============================] - 12s 39ms/step - loss: 0.4512 - accuracy: 0.7959 - val_loss: 0.4652 - val_accuracy: 0.7862\n",
            "Epoch 19/100\n",
            "313/313 [==============================] - 12s 39ms/step - loss: 0.4471 - accuracy: 0.7972 - val_loss: 0.4642 - val_accuracy: 0.7876\n",
            "Epoch 20/100\n",
            "313/313 [==============================] - 12s 40ms/step - loss: 0.4438 - accuracy: 0.7992 - val_loss: 0.4600 - val_accuracy: 0.7886\n",
            "Epoch 21/100\n",
            "313/313 [==============================] - 13s 40ms/step - loss: 0.4405 - accuracy: 0.8016 - val_loss: 0.4597 - val_accuracy: 0.7840\n",
            "Epoch 22/100\n",
            "313/313 [==============================] - 12s 40ms/step - loss: 0.4375 - accuracy: 0.8030 - val_loss: 0.4559 - val_accuracy: 0.7850\n",
            "Epoch 23/100\n",
            "313/313 [==============================] - 12s 40ms/step - loss: 0.4354 - accuracy: 0.8054 - val_loss: 0.4556 - val_accuracy: 0.7854\n",
            "Epoch 24/100\n",
            "313/313 [==============================] - 13s 40ms/step - loss: 0.4328 - accuracy: 0.8059 - val_loss: 0.4534 - val_accuracy: 0.7880\n",
            "Epoch 25/100\n",
            "313/313 [==============================] - 13s 41ms/step - loss: 0.4309 - accuracy: 0.8072 - val_loss: 0.4528 - val_accuracy: 0.7876\n",
            "Epoch 26/100\n",
            "313/313 [==============================] - 12s 40ms/step - loss: 0.4287 - accuracy: 0.8084 - val_loss: 0.4509 - val_accuracy: 0.7908\n",
            "Epoch 27/100\n",
            "313/313 [==============================] - 12s 40ms/step - loss: 0.4269 - accuracy: 0.8095 - val_loss: 0.4571 - val_accuracy: 0.7834\n",
            "Epoch 28/100\n",
            "313/313 [==============================] - 13s 40ms/step - loss: 0.4260 - accuracy: 0.8127 - val_loss: 0.4492 - val_accuracy: 0.7914\n",
            "Epoch 29/100\n",
            "313/313 [==============================] - 12s 40ms/step - loss: 0.4245 - accuracy: 0.8113 - val_loss: 0.4487 - val_accuracy: 0.7900\n",
            "Epoch 30/100\n",
            "313/313 [==============================] - 13s 40ms/step - loss: 0.4235 - accuracy: 0.8128 - val_loss: 0.4483 - val_accuracy: 0.7942\n",
            "Epoch 31/100\n",
            "313/313 [==============================] - 13s 41ms/step - loss: 0.4225 - accuracy: 0.8130 - val_loss: 0.4513 - val_accuracy: 0.7932\n",
            "Epoch 32/100\n",
            "313/313 [==============================] - 13s 40ms/step - loss: 0.4213 - accuracy: 0.8127 - val_loss: 0.4462 - val_accuracy: 0.7934\n",
            "Epoch 33/100\n",
            "313/313 [==============================] - 13s 40ms/step - loss: 0.4205 - accuracy: 0.8135 - val_loss: 0.4472 - val_accuracy: 0.7904\n",
            "Epoch 34/100\n",
            "313/313 [==============================] - 13s 40ms/step - loss: 0.4197 - accuracy: 0.8147 - val_loss: 0.4454 - val_accuracy: 0.7940\n",
            "Epoch 35/100\n",
            "313/313 [==============================] - 12s 39ms/step - loss: 0.4190 - accuracy: 0.8145 - val_loss: 0.4502 - val_accuracy: 0.7864\n",
            "Epoch 36/100\n",
            "313/313 [==============================] - 12s 40ms/step - loss: 0.4185 - accuracy: 0.8155 - val_loss: 0.4443 - val_accuracy: 0.7934\n",
            "Epoch 37/100\n",
            "313/313 [==============================] - 13s 41ms/step - loss: 0.4178 - accuracy: 0.8142 - val_loss: 0.4444 - val_accuracy: 0.7920\n",
            "Epoch 38/100\n",
            "313/313 [==============================] - 13s 41ms/step - loss: 0.4171 - accuracy: 0.8160 - val_loss: 0.4471 - val_accuracy: 0.7892\n",
            "Epoch 39/100\n",
            "313/313 [==============================] - 12s 40ms/step - loss: 0.4166 - accuracy: 0.8155 - val_loss: 0.4515 - val_accuracy: 0.7872\n"
          ],
          "name": "stdout"
        }
      ]
    },
    {
      "cell_type": "code",
      "metadata": {
        "colab": {
          "base_uri": "https://localhost:8080/",
          "height": 279
        },
        "id": "Bpt-E3ACOvKU",
        "outputId": "6117002f-2670-40e9-8f8e-e39f40947e64"
      },
      "source": [
        "import matplotlib.pyplot as plt\n",
        "plt.plot(history.history['loss'])\n",
        "plt.plot(history.history['val_loss'])\n",
        "plt.xlabel('epoch')\n",
        "plt.ylabel('loss')\n",
        "plt.legend(['train', 'val'])\n",
        "plt.show()"
      ],
      "execution_count": 22,
      "outputs": [
        {
          "output_type": "display_data",
          "data": {
            "image/png": "[encoded data removed]",
            "text/plain": [
              "<Figure size 432x288 with 1 Axes>"
            ]
          },
          "metadata": {
            "tags": [],
            "needs_background": "light"
          }
        }
      ]
    },
    {
      "cell_type": "code",
      "metadata": {
        "id": "vgmEmSw6QtJ1"
      },
      "source": [
        ""
      ],
      "execution_count": null,
      "outputs": []
    }
  ]
}